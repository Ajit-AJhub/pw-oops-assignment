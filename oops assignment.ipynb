{
 "cells": [
  {
   "cell_type": "code",
   "execution_count": null,
   "id": "d9eb9815-783b-422f-8946-97a56b1b082c",
   "metadata": {},
   "outputs": [],
   "source": [
    "Q1, Create a vehicle class with an init method having instance variables as name_of_vehicle, max_speed\n",
    "and average_of_vehicle.\n",
    "Ans1- "
   ]
  },
  {
   "cell_type": "code",
   "execution_count": null,
   "id": "3bbf1d2c-0e0c-4843-903d-c7bf46968406",
   "metadata": {},
   "outputs": [],
   "source": []
  },
  {
   "cell_type": "code",
   "execution_count": 1,
   "id": "138122f7-49c4-4058-afb2-af8e34b87495",
   "metadata": {},
   "outputs": [],
   "source": [
    "class Vehicle:\n",
    "    def __init__(self, name_of_vehicle, max_speed, average_of_vehicle):\n",
    "        self.name_of_vehicle = name_of_vehicle\n",
    "        self.max_speed = max_speed\n",
    "        self.average_of_vehicle = average_of_vehicle\n"
   ]
  },
  {
   "cell_type": "code",
   "execution_count": 3,
   "id": "7e818005-48eb-4a5a-9ef8-6c7603de8326",
   "metadata": {},
   "outputs": [
    {
     "name": "stdout",
     "output_type": "stream",
     "text": [
      "Fortuner\n",
      "200\n",
      "40\n"
     ]
    }
   ],
   "source": [
    "car = Vehicle(\"Fortuner\", 200, 40)\n",
    "print(car.name_of_vehicle)\n",
    "print(car.max_speed)  \n",
    "print(car.average_of_vehicle) \n"
   ]
  },
  {
   "cell_type": "code",
   "execution_count": null,
   "id": "bb84fdbf-c56c-4d4d-8ac4-e77fc95c7208",
   "metadata": {},
   "outputs": [],
   "source": [
    "Q2. Create a child class car from the vehicle class created in Que 1, which will inherit the vehicle class.\n",
    "Create a method named seating_capacity which takes capacity as an argument and returns the name of\n",
    "the vehicle and its seating capacity.\n",
    "Ans2-\n"
   ]
  },
  {
   "cell_type": "code",
   "execution_count": 4,
   "id": "3c6fad42-fd28-42e4-b60c-75570f83218c",
   "metadata": {},
   "outputs": [],
   "source": [
    "class Car(Vehicle):\n",
    "    def seating_capacity(self, capacity):\n",
    "        return f\"{self.name_of_vehicle} - Seating Capacity: {capacity} passengers\"\n"
   ]
  },
  {
   "cell_type": "code",
   "execution_count": 6,
   "id": "f68f4326-60c2-443c-9ffd-cb80ad2a838e",
   "metadata": {},
   "outputs": [
    {
     "name": "stdout",
     "output_type": "stream",
     "text": [
      "Fortuner - Seating Capacity: 5 passengers\n"
     ]
    }
   ],
   "source": [
    "car = Car(\"Fortuner\", 200, 40)\n",
    "print(car.seating_capacity(5))\n"
   ]
  },
  {
   "cell_type": "code",
   "execution_count": null,
   "id": "4dcf4cbd-fc08-4ffe-a0be-34ed25125726",
   "metadata": {},
   "outputs": [],
   "source": [
    "Q3. What is multiple inheritance? Write a python code to demonstrate multiple inheritance.\n",
    "\n",
    "Ans3-Multiple inheritance is a feature in object-oriented programming languages that allows a class to inherit properties and \n",
    "methods from multiple parent classes. \n",
    "It allows a subclass to inherit from more than one superclass, combining the attributes and behaviors of all the parent classes."
   ]
  },
  {
   "cell_type": "code",
   "execution_count": 7,
   "id": "fb7e865e-1c3c-455f-bf4e-9bd7e09190f4",
   "metadata": {},
   "outputs": [
    {
     "name": "stdout",
     "output_type": "stream",
     "text": [
      "Drawing a red rectangle with width 5 and height 3\n",
      "Drawing a blue circle with radius 7\n",
      "Drawing a green square with side length 4\n"
     ]
    }
   ],
   "source": [
    "class Shape:\n",
    "    def __init__(self, color):\n",
    "        self.color = color\n",
    "\n",
    "    def draw(self):\n",
    "        pass\n",
    "\n",
    "class Rectangle(Shape):\n",
    "    def __init__(self, color, width, height):\n",
    "        super().__init__(color)\n",
    "        self.width = width\n",
    "        self.height = height\n",
    "\n",
    "    def draw(self):\n",
    "        return f\"Drawing a {self.color} rectangle with width {self.width} and height {self.height}\"\n",
    "\n",
    "class Circle(Shape):\n",
    "    def __init__(self, color, radius):\n",
    "        super().__init__(color)\n",
    "        self.radius = radius\n",
    "\n",
    "    def draw(self):\n",
    "        return f\"Drawing a {self.color} circle with radius {self.radius}\"\n",
    "\n",
    "class Square(Rectangle):\n",
    "    def __init__(self, color, side_length):\n",
    "        super().__init__(color, side_length, side_length)\n",
    "\n",
    "    def draw(self):\n",
    "        return f\"Drawing a {self.color} square with side length {self.width}\"\n",
    "\n",
    "\n",
    "rectangle = Rectangle(\"red\", 5, 3)\n",
    "print(rectangle.draw())\n",
    "\n",
    "circle = Circle(\"blue\", 7)\n",
    "print(circle.draw())\n",
    "\n",
    "square = Square(\"green\", 4)\n",
    "print(square.draw())\n"
   ]
  },
  {
   "cell_type": "code",
   "execution_count": null,
   "id": "6f68ff1a-1023-4f2d-9b00-11104e9c162f",
   "metadata": {},
   "outputs": [],
   "source": [
    "Q4. What are getter and setter in python? Create a class and create a getter and a setter method in this\n",
    "class.\n",
    "Ans4- Getters and setters are methods that allow access to and modification of the attributes of a class, respectively. \n",
    "They provide a way to encapsulate the internal state of an object and ensure controlled access to its data.\n"
   ]
  },
  {
   "cell_type": "code",
   "execution_count": 9,
   "id": "ed034c1a-3936-4d78-93c5-7443b79432fc",
   "metadata": {},
   "outputs": [
    {
     "name": "stdout",
     "output_type": "stream",
     "text": [
      "Ajit\n",
      "Vishwakarma\n",
      "Age cannot be negative.\n",
      "25\n"
     ]
    }
   ],
   "source": [
    "class Person:\n",
    "    def __init__(self, name, age):\n",
    "        self._name = name\n",
    "        self._age = age\n",
    "\n",
    "    def get_name(self):\n",
    "        return self._name\n",
    "\n",
    "    def set_name(self, name):\n",
    "        self._name = name\n",
    "\n",
    "    def get_age(self):\n",
    "        return self._age\n",
    "\n",
    "    def set_age(self, age):\n",
    "        if age >= 0:\n",
    "            self._age = age\n",
    "        else:\n",
    "            print(\"Age cannot be negative.\")\n",
    "\n",
    "person = Person(\"Ajit\", 25)\n",
    "\n",
    "print(person.get_name())  \n",
    "\n",
    "person.set_name(\"Vishwakarma\")\n",
    "\n",
    "print(person.get_name())  \n",
    "\n",
    "person.set_age(-30)  \n",
    "\n",
    "print(person.get_age())\n"
   ]
  },
  {
   "cell_type": "code",
   "execution_count": null,
   "id": "5d659f1f-6cc0-41ff-9752-428af5801cb6",
   "metadata": {},
   "outputs": [],
   "source": [
    "Q5.What is method overriding in python? Write a python code to demonstrate method overriding.\n",
    "\n",
    "Ans5- Method overriding is a feature in object-oriented programming where a subclass provides its own implementation of a method that is \n",
    "already defined in its superclass. \n",
    "It allows the subclass to provide a specific implementation of a method, which may differ from the implementation in the superclass.\n",
    "\n",
    "method overriding is achieved by defining a method in the subclass with the same name as a method in the superclass.\n",
    "When the method is called on an instance of the subclass, the subclass's implementation is executed instead of the superclass's implementation.\n"
   ]
  },
  {
   "cell_type": "code",
   "execution_count": 11,
   "id": "51fc39c2-0e18-4e10-b455-52cbd58c9939",
   "metadata": {},
   "outputs": [
    {
     "name": "stdout",
     "output_type": "stream",
     "text": [
      "Color: Black\n",
      "Calculating area of the circle\n"
     ]
    },
    {
     "data": {
      "text/plain": [
       "314.0"
      ]
     },
     "execution_count": 11,
     "metadata": {},
     "output_type": "execute_result"
    }
   ],
   "source": [
    "class Shape:\n",
    "    def __init__(self, color):\n",
    "        self.color = color\n",
    "\n",
    "    def area(self):\n",
    "        print(\"Calculating area of the shape\")\n",
    "\n",
    "    def display_color(self):\n",
    "        print(\"Color:\", self.color)\n",
    "\n",
    "\n",
    "class Circle(Shape):\n",
    "    def __init__(self, color, radius):\n",
    "        super().__init__(color)\n",
    "        self.radius = radius\n",
    "\n",
    "    def area(self):\n",
    "        print(\"Calculating area of the circle\")\n",
    "        return 3.14 * self.radius * self.radius\n",
    "\n",
    "circle = Circle(\"Black\", 10)\n",
    "circle.display_color()  \n",
    "circle.area() \n"
   ]
  },
  {
   "cell_type": "code",
   "execution_count": null,
   "id": "83173dd3-bc38-46d1-aaea-f20cf696dcbb",
   "metadata": {},
   "outputs": [],
   "source": []
  }
 ],
 "metadata": {
  "kernelspec": {
   "display_name": "Python 3 (ipykernel)",
   "language": "python",
   "name": "python3"
  },
  "language_info": {
   "codemirror_mode": {
    "name": "ipython",
    "version": 3
   },
   "file_extension": ".py",
   "mimetype": "text/x-python",
   "name": "python",
   "nbconvert_exporter": "python",
   "pygments_lexer": "ipython3",
   "version": "3.10.8"
  }
 },
 "nbformat": 4,
 "nbformat_minor": 5
}
